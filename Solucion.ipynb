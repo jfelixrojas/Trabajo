{
 "cells": [
  {
   "cell_type": "markdown",
   "metadata": {},
   "source": [
    "## Métodos numéricos\n",
    "\n",
    "### Taller parcial\n",
    "\n",
    "1. Deberá ser realizado como un informe, este informe debe contener: \n",
    "- El procedimiento matemático utilizado para solucionar el problema, organizar las ecuaciones etc. \n",
    "-  El código en python del método numérico utilizado.\n",
    "- Explicación de los valores o intervalos iniciales tomados \n",
    "- Tolerancias \n",
    "- Gráfica de la función resultante de la ecuación a solucionar\n",
    "- Entregar claramente la respuesta del ejercicio. \n",
    "2)  Todas las tablas y gráficas deberán ser correctamente nombradas y numeradas. Deberá ser enviado por medio de un documento en Word o pdf. \n",
    "3)  Anexar  los  código  de  los  algoritmos  utilizados  en  formato  txt,  o  agregarlos  a  la tarea de classroom como un archivo compartido en classroom del colab utilizado \n",
    "previamente nombrado Anexo A, B, C, etc. \n",
    "\n",
    "Ejemplo: “Se utiliza el código (Anexo A) con método Falsa Posición para dar solución a la ecuación (1), el cual entrega el valor 5,5555 con una tolerancia de 0,0001 en 10 iteraciones.” \n",
    "\n",
    "4) Para  las  ecuaciones  utilizadas  usar  la  opción  de  insertar  ecuaciones  de  Word, \n",
    "representación de ecuaciones de colab, jupyter o fotografía donde se observe de forma legible las ecuaciones utilizadas"
   ]
  },
  {
   "cell_type": "code",
   "execution_count": 1,
   "metadata": {},
   "outputs": [],
   "source": [
    "#Librerías a utilizar:\n",
    "import numpy as np\n",
    "import matplotlib.pyplot as plt"
   ]
  },
  {
   "cell_type": "code",
   "execution_count": 57,
   "metadata": {},
   "outputs": [],
   "source": [
    "# Métodos para hallar las raíces:\n",
    "\n",
    "# Método de Falsa posición:\n",
    "def falsa_posicion(f, a, b, tol=0.0001, itermax=1000):\n",
    "    # Método de la falsa posición\n",
    "    x = (a * f(b) - b * f(a)) / (f(b) - f(a))  # Primer estimado\n",
    "    iteracion = 0\n",
    "    \n",
    "    while abs(f(x)) > tol and iteracion < itermax:\n",
    "        # Calculando la siguiente aproximación\n",
    "        x = (a * f(b) - b * f(a)) / (f(b) - f(a))\n",
    "        \n",
    "        # Actualizar a o b según el signo de f(x)\n",
    "        if f(a) * f(x) <= 0:\n",
    "            b = x\n",
    "        elif f(b) * f(x) < 0:\n",
    "            a = x\n",
    "        else:\n",
    "            print(\"No hay raíces en el intervalo\")\n",
    "            return None\n",
    "        \n",
    "        iteracion += 1\n",
    "        print(\"Iteración:\", iteracion, \"x =\", x)\n",
    "    \n",
    "    return x\n",
    "\n",
    "# Método de Newton-Raphson:\n",
    "def metodo_newton(f, fp, x0, tol=0.0001, itermax=1000):\n",
    "    # Método de Newton\n",
    "    x = x0  # Valor inicial\n",
    "    iteracion = 0\n",
    "    \n",
    "    while abs(f(x)) > tol and iteracion < itermax:\n",
    "        # Actualización de x utilizando la fórmula de Newton\n",
    "        x = x - f(x) / fp(x)\n",
    "        iteracion += 1\n",
    "        print(\"Iteración:\", iteracion, \"x =\", x)\n",
    "    \n",
    "    return x"
   ]
  },
  {
   "cell_type": "markdown",
   "metadata": {},
   "source": [
    "### Punto 1."
   ]
  },
  {
   "cell_type": "code",
   "execution_count": null,
   "metadata": {},
   "outputs": [],
   "source": []
  },
  {
   "cell_type": "markdown",
   "metadata": {},
   "source": [
    "### Punto 2. "
   ]
  },
  {
   "cell_type": "markdown",
   "metadata": {},
   "source": [
    "Determine todas las soluciones a la ecuación $3x^2cos(x)e^{-2x} = \\ln{x}\\sin{(2x)} -1$ que se encuentran en el intervalo (0,7) utilizando todos los 3 métodos vistos y compara la velocidad de convergencia entre ellos. (Comparar número de iteraciones necesarias para alcanzar una tolerancia determinada)."
   ]
  },
  {
   "cell_type": "markdown",
   "metadata": {},
   "source": [
    "Procedimiento: \n",
    "1. Definimos la función $f(x) = 0$, esto es:\n",
    "$$f(x) = 3x^2cos(x)e^{-2x} - \\ln{x}\\sin{(2x)} +1 =0$$\n",
    "2. Graficamos la función $f(x)$, para graficar la función consideramos el límite inferior $0 + 1\\times 10^{-3}$, esto porque el dominio del logaritmo natural no está incluido el cero."
   ]
  },
  {
   "cell_type": "code",
   "execution_count": 58,
   "metadata": {},
   "outputs": [
    {
     "data": {
      "image/png": "[encoded data removed]",
      "text/plain": [
       "<Figure size 640x480 with 1 Axes>"
      ]
     },
     "metadata": {},
     "output_type": "display_data"
    }
   ],
   "source": [
    "# Gráfica de la función problema:\n",
    "def funcion(x):\n",
    "    return 3*x**2*np.cos(x)*np.exp(-2*x) - np.log(x)*np.sin(2*x) + 1\n",
    "\n",
    "def df(x):\n",
    "    return -6* np.exp(-2*x) *(-1 + x)* x * np.cos(x) - (2* x *np.cos(2* x)* np.log(x) + 3* np.exp(-2 *x) * x**3 * np.sin(x) + np.sin(2* x))/x\n",
    "\n",
    "x = np.linspace(0+1e-3,7,200)\n",
    "\n",
    "plt.title('Gráfica de la función')\n",
    "plt.plot(x, funcion(x), '.',label='Función')\n",
    "#plt.plot(x, df(x), '.',label='Derivada')\n",
    "plt.xlabel(r'$x$')\n",
    "plt.ylabel(r'$f(x)$')\n",
    "plt.legend()\n",
    "plt.grid()"
   ]
  },
  {
   "cell_type": "code",
   "execution_count": 68,
   "metadata": {},
   "outputs": [
    {
     "name": "stdout",
     "output_type": "stream",
     "text": [
      "Método de la Falsa posición\n",
      "Para x = 3.0\n",
      "Iteración: 1 x = 3.764560228496365\n",
      "Iteración: 2 x = 3.625908589844585\n",
      "Iteración: 3 x = 3.585209795334565\n",
      "Iteración: 4 x = 3.5774213158247985\n",
      "Iteración: 5 x = 3.5761249119000413\n",
      "Iteración: 6 x = 3.5759150437149176\n",
      "Para x = 4.0\n",
      "Iteración: 1 x = 4.169160854106256\n",
      "Iteración: 2 x = 4.273650079436671\n",
      "Iteración: 3 x = 4.3178715343788445\n",
      "Iteración: 4 x = 4.332770774556902\n",
      "Iteración: 5 x = 4.337322140165252\n",
      "Iteración: 6 x = 4.3386667838623465\n",
      "Iteración: 7 x = 4.339059988156559\n",
      "Iteración: 8 x = 4.339174621573934\n",
      "Para x = 6.0\n",
      "Iteración: 1 x = 6.679005826170785\n",
      "Iteración: 2 x = 6.575984201097497\n",
      "Iteración: 3 x = 6.564272512654506\n",
      "Iteración: 4 x = 6.563491518135449\n",
      "Iteración: 5 x = 6.563443347780766\n"
     ]
    }
   ],
   "source": [
    "# Ceros por el método de la Falsa posición:\n",
    "print('Método de la Falsa posición')\n",
    "puntos_iniciales = np.array([3.0, 4.0, 6.0])\n",
    "for i in puntos_iniciales:\n",
    "    print(f'Para x = {i}')\n",
    "    if i == 3.0:\n",
    "        b = 4.0\n",
    "        sol_falsa = falsa_posicion(funcion, i, b)\n",
    "    elif i == 4.0:\n",
    "        b = 5.0\n",
    "        sol_falsa = falsa_posicion(funcion, i, b)\n",
    "    else:\n",
    "        b = 7.0\n",
    "        sol_falsa = falsa_posicion(funcion, i, b)\n"
   ]
  },
  {
   "cell_type": "code",
   "execution_count": 33,
   "metadata": {},
   "outputs": [
    {
     "name": "stdout",
     "output_type": "stream",
     "text": [
      "Método de Newton:\n",
      "Iteración: 1 x = 3.6403104244667293\n",
      "Iteración: 2 x = 3.571212370662061\n",
      "Iteración: 3 x = 3.575856026371119\n"
     ]
    }
   ],
   "source": [
    "print('Método de Newton:')\n",
    "sol_newton = metodo_newton(funcion, df, 3.0)"
   ]
  },
  {
   "cell_type": "markdown",
   "metadata": {},
   "source": [
    "### Punto 3."
   ]
  },
  {
   "cell_type": "code",
   "execution_count": null,
   "metadata": {},
   "outputs": [],
   "source": []
  },
  {
   "cell_type": "markdown",
   "metadata": {},
   "source": [
    "### Punto 4."
   ]
  },
  {
   "cell_type": "code",
   "execution_count": null,
   "metadata": {},
   "outputs": [],
   "source": []
  },
  {
   "cell_type": "markdown",
   "metadata": {},
   "source": [
    "### Punto 5."
   ]
  },
  {
   "cell_type": "markdown",
   "metadata": {},
   "source": []
  }
 ],
 "metadata": {
  "kernelspec": {
   "display_name": "Python 3",
   "language": "python",
   "name": "python3"
  },
  "language_info": {
   "codemirror_mode": {
    "name": "ipython",
    "version": 3
   },
   "file_extension": ".py",
   "mimetype": "text/x-python",
   "name": "python",
   "nbconvert_exporter": "python",
   "pygments_lexer": "ipython3",
   "version": "3.11.5"
  }
 },
 "nbformat": 4,
 "nbformat_minor": 2
}
