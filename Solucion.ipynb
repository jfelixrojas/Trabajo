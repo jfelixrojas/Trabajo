{
 "cells": [
  {
   "cell_type": "markdown",
   "metadata": {},
   "source": [
    "## Métodos numéricos\n",
    "\n",
    "### Taller parcial\n",
    "\n",
    "1. Deberá ser realizado como un informe, este informe debe contener: \n",
    "- El procedimiento matemático utilizado para solucionar el problema, organizar las ecuaciones etc. \n",
    "-  El código en python del método numérico utilizado.\n",
    "- Explicación de los valores o intervalos iniciales tomados \n",
    "- Tolerancias \n",
    "- Gráfica de la función resultante de la ecuación a solucionar\n",
    "- Entregar claramente la respuesta del ejercicio. \n",
    "2)  Todas las tablas y gráficas deberán ser correctamente nombradas y numeradas. Deberá ser enviado por medio de un documento en Word o pdf. \n",
    "3)  Anexar  los  código  de  los  algoritmos  utilizados  en  formato  txt,  o  agregarlos  a  la tarea de classroom como un archivo compartido en classroom del colab utilizado \n",
    "previamente nombrado Anexo A, B, C, etc. \n",
    "\n",
    "Ejemplo: “Se utiliza el código (Anexo A) con método Falsa Posición para dar solución a la ecuación (1), el cual entrega el valor 5,5555 con una tolerancia de 0,0001 en 10 iteraciones.” \n",
    "\n",
    "4) Para  las  ecuaciones  utilizadas  usar  la  opción  de  insertar  ecuaciones  de  Word, \n",
    "representación de ecuaciones de colab, jupyter o fotografía donde se observe de forma legible las ecuaciones utilizadas"
   ]
  },
  {
   "cell_type": "code",
   "execution_count": 2,
   "metadata": {},
   "outputs": [],
   "source": [
    "#Librerías a utilizar:\n",
    "import numpy as np\n",
    "import matplotlib.pyplot as plt"
   ]
  },
  {
   "cell_type": "code",
   "execution_count": 3,
   "metadata": {},
   "outputs": [],
   "source": [
    "# Métodos para hallar las raíces:\n",
    "\n",
    "# Método de Falsa posición:\n",
    "def falsa_posicion(f, a, b, tol=0.0001, itermax=1000):\n",
    "    # Método de la falsa posición\n",
    "    x = (a * f(b) - b * f(a)) / (f(b) - f(a))  # Primer estimado\n",
    "    iteracion = 0\n",
    "    \n",
    "    while abs(f(x)) > tol and iteracion < itermax:\n",
    "        # Calculando la siguiente aproximación\n",
    "        x = (a * f(b) - b * f(a)) / (f(b) - f(a))\n",
    "        \n",
    "        # Actualizar a o b según el signo de f(x)\n",
    "        if f(a) * f(x) <= 0:\n",
    "            b = x\n",
    "        elif f(b) * f(x) < 0:\n",
    "            a = x\n",
    "        else:\n",
    "            print(\"No hay raíces en el intervalo\")\n",
    "            return None\n",
    "        \n",
    "        iteracion += 1\n",
    "        print(\"Iteración:\", iteracion, \"x =\", x)\n",
    "    \n",
    "    return x\n",
    "\n",
    "# Método de Newton-Raphson:\n",
    "def metodo_newton(f, fp, x0, tol=0.0001, itermax=1000):\n",
    "    # Método de Newton\n",
    "    x = x0  # Valor inicial\n",
    "    iteracion = 0\n",
    "    \n",
    "    while abs(f(x)) > tol and iteracion < itermax:\n",
    "        # Actualización de x utilizando la fórmula de Newton\n",
    "        x = x - f(x) / fp(x)\n",
    "        iteracion += 1\n",
    "        print(\"Iteración:\", iteracion, \"x =\", x)\n",
    "    \n",
    "    return x"
   ]
  },
  {
   "cell_type": "markdown",
   "metadata": {},
   "source": [
    "### Punto 1.\n",
    "\n",
    "Este ejercicio debe ser realizado todo el procedimiento y solución completamente a mano, con ayuda de calculadora cuando considere necesario. Suponiendo que no tiene los medios para evaluar por medio de una calculadora el logaritmo natural de un número. Determinar el logaritmo natural de 100 utilizando alguno de los métodos vistos con un error relativo máximo del 1% al comparar con el valor real que se considera que es 4,605.\n",
    "\n",
    "### El cliente no proporcionó el método o la forma de solucionar, yo no estoy en el curso, imposible saber qué han visto"
   ]
  },
  {
   "cell_type": "markdown",
   "metadata": {},
   "source": [
    "### Punto 2. "
   ]
  },
  {
   "cell_type": "markdown",
   "metadata": {},
   "source": [
    "Determine todas las soluciones a la ecuación $3x^2cos(x)e^{-2x} = \\ln{x}\\sin{(2x)} -1$ que se encuentran en el intervalo (0,7) utilizando todos los 3 métodos vistos y compara la velocidad de convergencia entre ellos. (Comparar número de iteraciones necesarias para alcanzar una tolerancia determinada)."
   ]
  },
  {
   "cell_type": "markdown",
   "metadata": {},
   "source": [
    "Procedimiento: \n",
    "1. Definimos la función $f(x) = 0$, esto es:\n",
    "$$f(x) = 3x^2cos(x)e^{-2x} - \\ln{x}\\sin{(2x)} +1 =0$$\n",
    "2. Graficamos la función $f(x)$, para graficar la función consideramos el límite inferior $0 + 1\\times 10^{-3}$, esto porque el dominio del logaritmo natural no está incluido el cero."
   ]
  },
  {
   "cell_type": "code",
   "execution_count": 5,
   "metadata": {},
   "outputs": [
    {
     "data": {
      "image/png": "[encoded data removed]",
      "text/plain": [
       "<Figure size 640x480 with 1 Axes>"
      ]
     },
     "metadata": {},
     "output_type": "display_data"
    }
   ],
   "source": [
    "# Gráfica de la función problema:\n",
    "def funcion(x):\n",
    "    return 3*x**2*np.cos(x)*np.exp(-2*x) - np.log(x)*np.sin(2*x) + 1\n",
    "\n",
    "def df(x):\n",
    "    return -6* np.exp(-2*x) *(-1 + x)* x * np.cos(x) - (2* x *np.cos(2* x)* np.log(x) + 3* np.exp(-2 *x) * x**3 * np.sin(x) + np.sin(2* x))/x\n",
    "\n",
    "x = np.linspace(0+1e-3,7,200)\n",
    "\n",
    "plt.title('Gráfica de la función')\n",
    "plt.plot(x, funcion(x), '.',label='Función')\n",
    "#plt.plot(x, df(x), '.',label='Derivada')\n",
    "plt.xlabel(r'$x$')\n",
    "plt.ylabel(r'$f(x)$')\n",
    "plt.legend()\n",
    "plt.grid()"
   ]
  },
  {
   "cell_type": "code",
   "execution_count": 13,
   "metadata": {},
   "outputs": [
    {
     "name": "stdout",
     "output_type": "stream",
     "text": [
      "Tabla 1. Datos de la solución por el método de Newton.\n",
      "Método de la Falsa posición\n",
      "Para x = 3.0\n",
      "Iteración: 1 x = 3.764560228496365\n",
      "Iteración: 2 x = 3.625908589844585\n",
      "Iteración: 3 x = 3.585209795334565\n",
      "Iteración: 4 x = 3.5774213158247985\n",
      "Iteración: 5 x = 3.5761249119000413\n",
      "Iteración: 6 x = 3.5759150437149176\n",
      "Para x = 4.0\n",
      "Iteración: 1 x = 4.169160854106256\n",
      "Iteración: 2 x = 4.273650079436671\n",
      "Iteración: 3 x = 4.3178715343788445\n",
      "Iteración: 4 x = 4.332770774556902\n",
      "Iteración: 5 x = 4.337322140165252\n",
      "Iteración: 6 x = 4.3386667838623465\n",
      "Iteración: 7 x = 4.339059988156559\n",
      "Iteración: 8 x = 4.339174621573934\n",
      "Para x = 6.0\n",
      "Iteración: 1 x = 6.679005826170785\n",
      "Iteración: 2 x = 6.575984201097497\n",
      "Iteración: 3 x = 6.564272512654506\n",
      "Iteración: 4 x = 6.563491518135449\n",
      "Iteración: 5 x = 6.563443347780766\n"
     ]
    }
   ],
   "source": [
    "# Ceros por el método de la Falsa posición:\n",
    "print('Tabla 1. Datos de la solución por el método de Newton.')\n",
    "print('Método de la Falsa posición')\n",
    "puntos_iniciales = np.array([3.0, 4.0, 6.0])\n",
    "for i in puntos_iniciales:\n",
    "    print(f'Para x = {i}')\n",
    "    if i == 3.0:\n",
    "        b = 4.0\n",
    "        sol_falsa = falsa_posicion(funcion, i, b)\n",
    "    elif i == 4.0:\n",
    "        b = 5.0\n",
    "        sol_falsa = falsa_posicion(funcion, i, b)\n",
    "    else:\n",
    "        b = 7.0\n",
    "        sol_falsa = falsa_posicion(funcion, i, b)\n"
   ]
  },
  {
   "cell_type": "code",
   "execution_count": 14,
   "metadata": {},
   "outputs": [
    {
     "name": "stdout",
     "output_type": "stream",
     "text": [
      "Tabla 2. Datos de la solución por el método de la bisección.\n",
      "Método del método de la bisección\n",
      "Para x = 3.5\n",
      "Iteración: 1, x = 3.625, f(x) = -0.084796714844394\n",
      "Iteración: 2, x = 3.5625, f(x) = 0.02445621505133766\n",
      "Iteración: 3, x = 3.59375, f(x) = -0.03179727886289285\n",
      "Iteración: 4, x = 3.578125, f(x) = -0.004059636156219959\n",
      "Iteración: 5, x = 3.5703125, f(x) = 0.010103258084983135\n",
      "Iteración: 6, x = 3.57421875, f(x) = 0.002997770904488828\n",
      "Iteración: 7, x = 3.576171875, f(x) = -0.0005369777775463547\n",
      "Iteración: 8, x = 3.5751953125, f(x) = 0.0012288896612909772\n",
      "Iteración: 9, x = 3.57568359375, f(x) = 0.0003455786677113437\n",
      "Iteración: 10, x = 3.575927734375, f(x) = -9.579394200009972e-05\n",
      "Para x = 4.2\n",
      "Iteración: 1, x = 4.4, f(x) = 0.13069346167158857\n",
      "Iteración: 2, x = 4.300000000000001, f(x) = -0.07529574035969588\n",
      "Iteración: 3, x = 4.3500000000000005, f(x) = 0.02196618018421259\n",
      "Iteración: 4, x = 4.325000000000001, f(x) = -0.02815297429571717\n",
      "Iteración: 5, x = 4.3375, f(x) = -0.0034589032934528863\n",
      "Iteración: 6, x = 4.34375, f(x) = 0.009163109437283823\n",
      "Iteración: 7, x = 4.340625, f(x) = 0.0028293635593542588\n",
      "Iteración: 8, x = 4.339062500000001, f(x) = -0.00032046803792606937\n",
      "Iteración: 9, x = 4.33984375, f(x) = 0.0012530248744474504\n",
      "Iteración: 10, x = 4.339453125, f(x) = 0.0004659224893159841\n",
      "Iteración: 11, x = 4.3392578125000005, f(x) = 7.263821756464672e-05\n",
      "Para x = 6.5\n",
      "Iteración: 1, x = 6.625, f(x) = -0.1940634923258373\n",
      "Iteración: 2, x = 6.5625, f(x) = 0.0030747878220613867\n",
      "Iteración: 3, x = 6.59375, f(x) = -0.09740360222203703\n",
      "Iteración: 4, x = 6.578125, f(x) = -0.047615992231989646\n",
      "Iteración: 5, x = 6.5703125, f(x) = -0.022380238430444788\n",
      "Iteración: 6, x = 6.56640625, f(x) = -0.00967972423868102\n",
      "Iteración: 7, x = 6.564453125, f(x) = -0.0033091665174449503\n",
      "Iteración: 8, x = 6.5634765625, f(x) = -0.00011885748709827837\n",
      "Iteración: 9, x = 6.56298828125, f(x) = 0.001477548937973805\n",
      "Iteración: 10, x = 6.563232421875, f(x) = 0.0006792415673658736\n",
      "Iteración: 11, x = 6.5633544921875, f(x) = 0.0002801659880311558\n",
      "Iteración: 12, x = 6.56341552734375, f(x) = 8.064773586791141e-05\n"
     ]
    }
   ],
   "source": [
    "# Método de bisección\n",
    "def biseccion(f, a, b, tol=0.0001, itermax=1000):\n",
    "    \"\"\"\n",
    "    Método de la Bisección para encontrar la raíz de la función f en el intervalo [a, b].\n",
    "\n",
    "    Parámetros:\n",
    "    - f: Función que se va a resolver.\n",
    "    - a: Valor izquierdo del intervalo.\n",
    "    - b: Valor derecho del intervalo.\n",
    "    - tol: Tolerancia para la convergencia de la solución.\n",
    "    - itermax: Número máximo de iteraciones.\n",
    "\n",
    "    Retorna:\n",
    "    - La aproximación de la raíz y el número de iteraciones.\n",
    "    \"\"\"\n",
    "    # Comprobamos si la función tiene signos opuestos en los extremos\n",
    "    if f(a) * f(b) > 0:\n",
    "        print(\"No hay raíces en el intervalo dado\")\n",
    "        return None, 0\n",
    "    \n",
    "    x = (a + b) / 2  # Estimación inicial de la raíz\n",
    "    iteracion = 0\n",
    "    \n",
    "    # Iteración hasta alcanzar la tolerancia o el número máximo de iteraciones\n",
    "    while abs(f(x)) > tol and iteracion < itermax:\n",
    "        if f(a) * f(x) <= 0:\n",
    "            b = x  # La raíz está en el intervalo [a, x]\n",
    "        else:\n",
    "            a = x  # La raíz está en el intervalo [x, b]\n",
    "        \n",
    "        x = (a + b) / 2  # Nueva estimación de la raíz\n",
    "        iteracion += 1\n",
    "        print(f\"Iteración: {iteracion}, x = {x}, f(x) = {f(x)}\")\n",
    "\n",
    "    return x, iteracion\n",
    "\n",
    "# Ceros por el método de la Falsa posición:\n",
    "print('Tabla 2. Datos de la solución por el método de la bisección.')\n",
    "print('Método del método de la bisección')\n",
    "puntos_iniciales = np.array([3.5, 4.2, 6.5])\n",
    "for i in puntos_iniciales:\n",
    "    print(f'Para x = {i}')\n",
    "    if i == 3.5:\n",
    "        b = 4.0\n",
    "        sol_falsa = biseccion(funcion, i, b)\n",
    "    elif i == 4.2:\n",
    "        b = 5.0\n",
    "        sol_falsa = biseccion(funcion, i, b)\n",
    "    else:\n",
    "        b = 7\n",
    "        sol_falsa = biseccion(funcion, i, b)\n"
   ]
  },
  {
   "cell_type": "code",
   "execution_count": 17,
   "metadata": {},
   "outputs": [
    {
     "name": "stdout",
     "output_type": "stream",
     "text": [
      "Tabla 3. Datos de la solución por el método de Newton.\n",
      "Método de Newton:\n",
      "Para x = 3.5\n",
      "Iteración: 1 x = 3.5720624023098564\n",
      "Iteración: 2 x = 3.575862187681903\n",
      "Para x = 4.2\n",
      "Iteración: 1 x = 4.377805894130807\n",
      "Iteración: 2 x = 4.340746081715208\n",
      "Iteración: 3 x = 4.339224409283488\n",
      "Para x = 6.0\n",
      "Iteración: 1 x = 6.6684053899188775\n",
      "Iteración: 2 x = 6.554814927802518\n",
      "Iteración: 3 x = 6.563401652104305\n",
      "Iteración: 4 x = 6.563440198842205\n"
     ]
    }
   ],
   "source": [
    "puntos_iniciales = np.array([3.5, 4.2, 6])\n",
    "print('Tabla 3. Datos de la solución por el método de Newton.')\n",
    "print('Método de Newton:')\n",
    "for i in puntos_iniciales:\n",
    "    print(f'Para x = {i}')\n",
    "    sol_newton = metodo_newton(funcion, df,i)\n"
   ]
  },
  {
   "cell_type": "markdown",
   "metadata": {},
   "source": [
    "Lo que se puede observar es que las raíces son tres, pero la obtención de estas es más importante la correcta definición de los puntos de inicio y/o de fin según el método a utilizar. Según la Tabla 2. y Tabla 3. se puede observar que la convergencia de la solución es mucho más rápida para el método de Newton, sin embargo, es más sensible al valor del punto inicial."
   ]
  },
  {
   "cell_type": "markdown",
   "metadata": {},
   "source": [
    "### Punto 3.\n",
    "\n",
    "Una  pelota  de  masa 𝑚 es  lanzada  hacia  abajo  desde  una  altura $y_0$ de  forma \n",
    "perfectamente  vertical  a  una  velocidad  $v_0$.  La  pelota  presenta  una  fuerza  de \n",
    "fricción con el aire de valor $f_v = -bv$, donde $b$ representa la constante de fricción \n",
    "de la pelota con el aire\n",
    "\n",
    "- Determinar la constante de fricción $b$ necesaria para llegar al suelo en el instante de tiempo $t_f$.\n",
    "- Determinar la velocidad con la que toca el suelo.\n",
    "- Determinar el tiempo que le toma en llegar al punto más alto después de rebotar contra el suelo si se considera un choque completamente elástico.\n",
    "- Determinar la altura máxima que alcanza la pelota.\n",
    "\n",
    "$m = 100g$, $y_0 = 20m$, $t_f = 3s$, $v_0 = 10m/s$"
   ]
  },
  {
   "cell_type": "markdown",
   "metadata": {},
   "source": [
    "Metodología para el numeral a.\n",
    "\n",
    "1. Usamos la expresión como base: $$ v(t) = \\left( v_0 +\\frac{mg}{b}\\right)e^{\\frac{-bt}{m}}-\\frac{mg}{b}$$\n",
    "2. Obtenemos la posición integrando la velocidad haciendo relación a $v = \\frac{dy}{dt}\\rightarrow y = y_0 +\\int_{0}^{\\tau} v(t) dt$\n",
    "\n",
    "Dando como resultado:\n",
    "\n",
    "$$y = y_0+ \\int_0^\\tau \\left[ \\left( v_0+\\frac{mg}{b}\\right)e^{-\\frac{-bt}{m}} -\\frac{mg}{b} \\right]dt \\\\\n",
    "y = y_0 +\\left(v_0+\\frac{mg}{b}\\right)\\int_0^\\tau e^{\\frac{-bt}{m}}dt -\\frac{mg}{b}\\int_0^\\tau dt \\\\\n",
    "\n",
    "y = y_0 + \\left( v_0+\\frac{mg}{b}\\right)\\left(\\frac{-m}{b}\\right)(e^{-\\frac{b\\tau}{m}}-1)-\\frac{mg}{b}\\tau$$\n",
    "\n",
    "3. Aplicamos las condiciones, para llegar al suelo, la posición debe ser igual a cero. por lo tanto, la ecuación que tenemos es:\n",
    "$$ y_0 + \\left( v_0+\\frac{mg}{b}\\right)\\left(\\frac{-m}{b}\\right)(e^{-\\frac{b\\tau}{m}}-1)-\\frac{mg}{b}\\tau = 0$$\n",
    "4. Y Como tenemos la función a hallar el cero y la derivada de la función, podemos usar el método de Newton."
   ]
  },
  {
   "cell_type": "code",
   "execution_count": 85,
   "metadata": {},
   "outputs": [
    {
     "data": {
      "image/png": "[encoded data removed]",
      "text/plain": [
       "<Figure size 640x480 with 1 Axes>"
      ]
     },
     "metadata": {},
     "output_type": "display_data"
    }
   ],
   "source": [
    "import numpy as np\n",
    "import matplotlib.pyplot as plt\n",
    "\n",
    "# Funciones\n",
    "def velocidad(m, g, b, v0, t):\n",
    "    return ((v0 + m * g / b) * np.exp(-b * t / m) - m * g / b)\n",
    "\n",
    "def posicion(b, y0, m, g, v0, t):\n",
    "    return y0 + (v0 + m * g / b) * (-m / b) * (np.exp(-b * t / m) - 1) - (m * g / b) * t\n",
    "\n",
    "# Parámetros\n",
    "m = 0.1  # Kilogramos\n",
    "y0 = 20  # metros\n",
    "v0 = -10  # m/s, negativa porque se lanza hacia abajo.\n",
    "g = 9.8  # m/s²\n",
    "tf = 3   # segundos\n",
    "\n",
    "# Rango para b\n",
    "b_values = np.linspace(0.01, 10, 100)  # Asegurando que no sea cero\n",
    "\n",
    "# Evaluar la función de posición para diferentes valores de b\n",
    "t_values = np.linspace(0, tf, 100)  # Valores de tiempo desde 0 hasta tf\n",
    "y_values = [posicion(b, y0, m, g, v0, t_values[-1]) for b in b_values]\n",
    "\n",
    "# Graficar la posición para diferentes valores de b\n",
    "plt.plot(b_values, y_values)\n",
    "plt.xlabel('Constante de fricción b (kg/s)')\n",
    "plt.ylabel('Posición y(t)')\n",
    "plt.title('Posición vs. Constante de fricción b')\n",
    "plt.grid(True)\n",
    "plt.show()\n"
   ]
  },
  {
   "cell_type": "code",
   "execution_count": 99,
   "metadata": {},
   "outputs": [
    {
     "name": "stdout",
     "output_type": "stream",
     "text": [
      "Iteración: 1 x = 0.7673239756319175\n",
      "Iteración: 2 x = 0.5985412271570394\n",
      "Iteración: 3 x = 0.47627020060424646\n",
      "Iteración: 4 x = 0.38787392191456177\n",
      "Iteración: 5 x = 0.3241533674609018\n",
      "Iteración: 6 x = 0.2783970014246087\n",
      "Iteración: 7 x = 0.245693223209247\n",
      "Iteración: 8 x = 0.2224381582448338\n",
      "Iteración: 9 x = 0.20598646848422847\n",
      "Iteración: 10 x = 0.19440245640376508\n",
      "Iteración: 11 x = 0.18627864727234328\n",
      "Iteración: 12 x = 0.18059995331320908\n",
      "Iteración: 13 x = 0.1766404138854261\n",
      "Iteración: 14 x = 0.17388477665295238\n",
      "Iteración: 15 x = 0.17196963997344794\n",
      "Iteración: 16 x = 0.17063996466869671\n",
      "Iteración: 17 x = 0.16971742726445282\n",
      "Iteración: 18 x = 0.16907768460512\n",
      "Iteración: 19 x = 0.16863420434989423\n",
      "Iteración: 20 x = 0.1683268518407645\n",
      "Iteración: 21 x = 0.16811387862268162\n",
      "Iteración: 22 x = 0.16796632102729303\n",
      "Iteración: 23 x = 0.16786409481810155\n",
      "Iteración: 24 x = 0.16779327773550395\n",
      "Iteración: 25 x = 0.16774422123935298\n",
      "Iteración: 26 x = 0.16771023970084067\n",
      "Iteración: 27 x = 0.16768670106748365\n",
      "Iteración: 28 x = 0.16767039633433553\n",
      "Iteración: 29 x = 0.16765910248061808\n",
      "Iteración: 30 x = 0.16765127957918532\n",
      "Iteración: 31 x = 0.16764586092239805\n",
      "Iteración: 32 x = 0.16764210761526735\n",
      "Iteración: 33 x = 0.1676395078409735\n",
      "Iteración: 34 x = 0.16763770707800857\n",
      "Iteración: 35 x = 0.16763645976051156\n",
      "Iteración: 36 x = 0.1676355957934737\n",
      "Iteración: 37 x = 0.16763499735828713\n",
      "Iteración: 38 x = 0.16763458284646424\n",
      "Constante de fricción b = 0.1676 kg/s\n"
     ]
    }
   ],
   "source": [
    "# Función de velocidad\n",
    "def velocidad(b):\n",
    "    return ((v0 + m * g / b) * np.exp(-b * tf / m) - m * g / b)\n",
    "\n",
    "# Función de posición\n",
    "def posicion(b):\n",
    "    return y0 + (v0 + m * g / b) * (- m / b) * (np.exp(-b * tf / m) - 1) - (m * g / b) * tf\n",
    "\n",
    "# Parámetros\n",
    "m = 0.1  # Kilogramos\n",
    "y0 = 20  # metros\n",
    "v0 = -10  # m/s, negativa porque se lanza hacia abajo\n",
    "g = 9.8  # m/s²\n",
    "tf = 3.0   # segundos\n",
    "\n",
    "# Valores iniciales para b\n",
    "\n",
    "\n",
    "b_sol = falsa_posicion(posicion, 1e-3,1.0)\n",
    "\n",
    "\n",
    "print(f\"Constante de fricción b = {b_sol:.4f} kg/s\")"
   ]
  },
  {
   "cell_type": "markdown",
   "metadata": {},
   "source": [
    "Metodología para numeral b)\n",
    "\n",
    "1. Como ya tenemos el valor de b, ahora, debemos reemplazar solo el valor b en la velocidad."
   ]
  },
  {
   "cell_type": "code",
   "execution_count": 94,
   "metadata": {},
   "outputs": [
    {
     "name": "stdout",
     "output_type": "stream",
     "text": [
      "La velocidad final es: -8.9828 m/s\n"
     ]
    }
   ],
   "source": [
    "# Numeral b)\n",
    "vf = velocidad(b_sol)\n",
    "print(f'La velocidad final es: {vf:.4f} m/s')"
   ]
  },
  {
   "cell_type": "markdown",
   "metadata": {},
   "source": [
    "En el numeral c), metodología:\n",
    "En este caso, suponemos que el choque con el suelo es completamente elástico (esto implica que la velocidad de rebote es de igual magnitud pero de signo contrario). Además, se nos pide determinar el tiempo que le toma llegar al punto más alto después de rebotar.\n",
    "\n",
    "Procedimiento para el rebote:\n",
    "- Velocidad al impactar el suelo: La pelota toca el suelo cuando la posición $y(t)=0$. Usamos la ecuación de velocidad y posición que ya hemos analizado para encontrar el valor de b. Después de que la pelota toca el suelo, su velocidad de rebote será igual en magnitud pero opuesta en signo. \n",
    "- Cálculo del tiempo de subida después del rebote: Después del rebote, la pelota se mueve hacia arriba hasta alcanzar su altura máxima, donde la velocidad se vuelve cero. En este punto, la aceleración debida a la fricción es la misma que antes, pero la dirección de la velocidad será opuesta.\n",
    "- Cuando llegue a la altura máxima, la velocidad será nula. Entonces la ecuación a solucionar es:\n",
    "$ 0 = v_{{rebote}} e^{\\frac{-bt}{m}}- \\frac{mg}{b}$, despejando el tiempo tenemos:\n",
    "\n",
    "$$ t = \\frac{m}{b} \\ln{\\left( \\frac{b v_{\\text{rebote}}}{mg}\\right)}\\rightarrow t-  \\frac{m}{b} \\ln{\\left( \\frac{b v_{\\text{rebote}}}{mg}\\right)} = 0 $$"
   ]
  },
  {
   "cell_type": "code",
   "execution_count": 120,
   "metadata": {},
   "outputs": [
    {
     "name": "stdout",
     "output_type": "stream",
     "text": [
      "El tiempo para el cual el rebote llegó al punto más alto es: 0.2562 s\n"
     ]
    }
   ],
   "source": [
    "# Numeral c)\n",
    "v_rebote = -vf # La velocidad de rebote.\n",
    "\n",
    "def tiempo_alto(t):\n",
    "    return t- (m/b)*np.log(v_rebote * b / (m * g))\n",
    "\n",
    "sol_tiempo_alto = falsa_posicion(tiempo_alto, 0.0, 10)\n",
    "print(f'El tiempo para el cual el rebote llegó al punto más alto es: {sol_tiempo_alto:.4f} s')"
   ]
  },
  {
   "cell_type": "markdown",
   "metadata": {},
   "source": [
    "Metodología del numeral d. Se soluciona teniendo en cuenta que la altura máxima se encuentra cuando la velocidad es nula.\n",
    "\n",
    "1. Consideramos que la velocidad es nula, hallamos el tiempo para el cual se cumple esto. Obtenido en el numeral anterior.\n",
    "2. Evaluamos lo ya encontrado:"
   ]
  },
  {
   "cell_type": "code",
   "execution_count": 124,
   "metadata": {},
   "outputs": [
    {
     "name": "stdout",
     "output_type": "stream",
     "text": [
      "La altura a la que llegó la pelota después de rebotar es: 0.2562 m\n"
     ]
    }
   ],
   "source": [
    "# Numeral d)\n",
    "\n",
    "\n",
    "def posicion(t):\n",
    "    return y0 + (v0 + m * g / b) * (- m / b) * (np.exp(-b * t / m) - 1) - (m * g / b) * t\n",
    "altura_alto = posicion(sol_tiempo_alto)\n",
    "print(f'La altura a la que llegó la pelota después de rebotar es: {sol_tiempo_alto:.4f} m')"
   ]
  },
  {
   "cell_type": "markdown",
   "metadata": {},
   "source": [
    "### Punto 4.\n",
    "Para resolver este problema de un sistema en equilibrio estático, necesitamos usar el principio de equilibrio de fuerzas y las ecuaciones de elasticidad para los desplazamientos de cada masa en el sistema. El sistema descrito es un sistema de resortes y masas conectado a dos fuerzas externas $F_1$ y $F_2$ \n",
    "\n",
    "\n",
    "Procedimiento:\n",
    "\n",
    "1. Plantear las ecuaciones de movimiento para cada masa:Dado que el sistema está en equilibrio y los desplazamientos son pequeños (hipótesis de elasticidad lineal), podemos usar la ley de Hooke para cada resorte, que establece que la fuerza en un resorte es directamente proporcional al desplazamiento:\\[\n",
    "   F = k \\cdot x\\]\n",
    "\n",
    "   donde:\n",
    "   - \\( $F$ \\) es la fuerza aplicada sobre el resorte,\n",
    "   - \\( $k$ \\) es la constante de rigidez del resorte,\n",
    "   - \\( $x$ \\) es el desplazamiento.\n",
    "\n",
    "2. Sistema de ecuaciones de equilibrio:\n",
    "   Usamos la segunda ley de Newton (equilibrio de fuerzas) para escribir las ecuaciones de equilibrio para cada masa en el sistema. Las fuerzas sobre cada masa se deben equilibrar, lo que nos lleva a un sistema de ecuaciones lineales.\n",
    "\n",
    "   Cada masa tendrá una ecuación de la forma:\n",
    "\n",
    "   \\[\n",
    "   $F_{\\text{resorte}} = m \\cdot a = 0$\n",
    "   \\]\n",
    "\n",
    "   donde \\( $F_{\\text{resorte}} $\\) es la suma de las fuerzas de los resortes sobre esa masa y \\( $m$ \\) es la masa correspondiente.\n",
    "\n",
    " Variables:\n",
    "- \\($ x_1, x_2, x_3, x_4, x_5, x_6 $\\) son los desplazamientos de las masas.\n",
    "- \\( $k_1, k_2, k_3, k_4, k_5, k_6 $\\) son las constantes de los resortes.\n",
    "\n",
    "- Ecuaciones de equilibrio:\n",
    "\n",
    "Antes de definir algo, tenemos que tener presente que:\n",
    "1. Muelles en paralelo la constante equivalente es: $$k = k_1+k_2$$\n",
    "2. Muelles en serie la constante equivalente es: $$k = \\frac{k_1k_2}{k_1+k_2}$$"
   ]
  },
  {
   "cell_type": "markdown",
   "metadata": {},
   "source": [
    "Vamos a suponer que las masas son iguales porque en el problema no dice nada al respecto.\n",
    "\n"
   ]
  },
  {
   "cell_type": "markdown",
   "metadata": {},
   "source": [
    "<img src=\"sistema_reducido.jpeg\">"
   ]
  },
  {
   "cell_type": "markdown",
   "metadata": {},
   "source": [
    "Planteando las ecuaciones:\n",
    "\n",
    "- Para $m_1$ (la de la izquierda): no hay más fuerzas que la que ejerce $k_3$ y $k_{12}$.\n",
    "- Para $m_2$: no hay más fuerzas que la que ejerce $k_8$ y $k_{567}$.\n",
    "- Para $m_3$: actúan las fuerzas que ejerce $k_4$, $k_{3}$ y $F_1$.\n",
    "- Para $m_4$: actúan las fuerzas que ejerce $k_4$, $k_{567}$ y $F_2$.\n",
    "\n",
    "Como se consideran en equilibrio, se igualan a cero:\n",
    "\n",
    "\\begin{cases}\n",
    "    0 = k_{12}x_1 -k_3 (x_1-x_3) \\\\\n",
    "    0 = k_3 (x_1-x_3) -k_4 (x_3-x_4) +F_1 \\\\\n",
    "    0 = k_4(x_3-x_4) -k_{567}(x_4-x_5) +F_2\\\\\n",
    "    0 = k_{567}(x_4-x_5) - k_8 (x_5)\\\\\n",
    "\\end{cases}\n",
    "\n",
    "\n",
    "\n"
   ]
  },
  {
   "cell_type": "markdown",
   "metadata": {},
   "source": [
    "Donde podemos definir la matriz de constantes:\n",
    "$$\n",
    "K = \n",
    "\\begin{pmatrix}\n",
    "k_{12}-k_3 & k_3& 0&0 \\\\\n",
    "k_3& -k_3-k_4&k_4&0 \\\\\n",
    "0 & k_4& -k_4-k_{567}&k_{567}\\\\\n",
    "0& 0&k_{567}& -k_{567}-k_{8}\n",
    "\\end{pmatrix}\n",
    "$$\n",
    "\n",
    "El vector de variables:\n",
    "$$\n",
    "X= \n",
    "\\begin{pmatrix}\n",
    "x_{1} \\\\\n",
    "x_3 \\\\\n",
    "x_4\\\\\n",
    "x_{5}\n",
    "\\end{pmatrix}\n",
    "$$\n",
    "Y las fuerzas externas:\n",
    "$$\n",
    "F= \n",
    "\\begin{pmatrix}\n",
    "0 \\\\\n",
    "F_1 \\\\\n",
    "F_2\\\\\n",
    "0\n",
    "\\end{pmatrix}\n",
    "$$\n",
    "El sistema es:\n",
    "\n",
    "$$\n",
    "\\begin{pmatrix}\n",
    "k_{12}-k_3 & k_3& 0&0 \\\\\n",
    "k_3& -k_3-k_4&k_4&0 \\\\\n",
    "0 & k_4& -k_4-k_{567}&k_{567}\\\\\n",
    "0& 0&k_{567}& -k_{567}-k_{8}\n",
    "\\end{pmatrix}\n",
    "\\begin{pmatrix}\n",
    "x_{1} \\\\\n",
    "x_3 \\\\\n",
    "x_4\\\\\n",
    "x_{5}\n",
    "\\end{pmatrix}\n",
    "= \n",
    "\\begin{pmatrix}\n",
    "0 \\\\\n",
    "F_1 \\\\\n",
    "F_2\\\\\n",
    "0\n",
    "\\end{pmatrix}\n",
    "$$"
   ]
  },
  {
   "cell_type": "markdown",
   "metadata": {},
   "source": [
    "Para resolverlo usamos el método de Gauss-Jordan de forma computacional."
   ]
  },
  {
   "cell_type": "code",
   "execution_count": 8,
   "metadata": {},
   "outputs": [
    {
     "data": {
      "text/plain": [
       "array([[  400.        ,   600.        ,     0.        ,     0.        ],\n",
       "       [  600.        , -1200.        ,   600.        ,     0.        ],\n",
       "       [    0.        ,   600.        ,  -942.85714286,   342.85714286],\n",
       "       [    0.        ,     0.        ,   342.85714286,  -942.85714286]])"
      ]
     },
     "execution_count": 8,
     "metadata": {},
     "output_type": "execute_result"
    }
   ],
   "source": [
    "import numpy as np\n",
    "\n",
    "def paralelo(k1, k2):\n",
    "    return k1 + k2\n",
    "\n",
    "def serie(k1, k2):\n",
    "    return k1 * k2 / (k1 + k2)\n",
    "\n",
    "# Constantes de los resortes (en kN/m)\n",
    "k1 = k2 = 500  # kN/m\n",
    "k3 = k4 = k5 = k8 = 600  # kN/m\n",
    "k6 = k7 = 400  # kN/m\n",
    "\n",
    "# Reducción del sistema\n",
    "k12 = paralelo(k1,k2)\n",
    "k67 = paralelo(k6,k7)\n",
    "k567 = serie(k5,k67)\n",
    "# Fuerzas externas (en kN)\n",
    "F1 = 22  # kN\n",
    "F2 = 12  # kN\n",
    "\n",
    "# Matriz K:\n",
    "K = np.array([\n",
    "    [k12-k3, k3, 0, 0],\n",
    "    [k3, -k3-k4, k4, 0],\n",
    "    [0, k4, -k4-k567, k567],\n",
    "    [0, 0, k567, -k567-k8]\n",
    "])\n",
    "K"
   ]
  },
  {
   "cell_type": "code",
   "execution_count": null,
   "metadata": {},
   "outputs": [
    {
     "name": "stdout",
     "output_type": "stream",
     "text": [
      "Desplazamientos: x1 = 0.0278 m, x3 = -0.0186 m, x4 = -0.0283 m, x5 = -0.0103 m\n"
     ]
    }
   ],
   "source": [
    "F = np.array([0, F1, F2, 0], dtype=float)\n",
    "\n",
    "# Método de Gauss-Jordan para resolver K * X = F\n",
    "def gauss_jordan(A, B):\n",
    "    # Matriz aumentada [A | B]\n",
    "    augmented_matrix = np.hstack([A, B.reshape(-1, 1)])\n",
    "    \n",
    "    rows, cols = augmented_matrix.shape\n",
    "    \n",
    "    # Realizamos el método de Gauss-Jordan\n",
    "    for i in range(rows):\n",
    "        # Hacer que el pivote sea 1\n",
    "        augmented_matrix[i] = augmented_matrix[i] / augmented_matrix[i, i]\n",
    "        \n",
    "        # Hacer cero los valores debajo y encima del pivote\n",
    "        for j in range(rows):\n",
    "            if i != j:\n",
    "                augmented_matrix[j] -= augmented_matrix[i] * augmented_matrix[j, i]\n",
    "    \n",
    "    # La última columna es la solución\n",
    "    return augmented_matrix[:, -1]\n",
    "\n",
    "# Resolver el sistema usando Gauss-Jordan\n",
    "displacements = gauss_jordan(K, F)\n",
    "\n",
    "# Mostrar los resultados\n",
    "x1, x3, x4, x5 = displacements\n",
    "print(f\"Desplazamientos: x1 = {x1:.4f} m, x3 = {x3:.4f} m, x4 = {x4:.4f} m, x5 = {x5:.4f} m\")"
   ]
  },
  {
   "cell_type": "markdown",
   "metadata": {},
   "source": [
    "Como $k_1$ y $k_2$ está en paralelo, x1 = x2, al igual con x5 y x6"
   ]
  },
  {
   "cell_type": "markdown",
   "metadata": {},
   "source": [
    "### Punto 5.\n",
    "Una partícula acelera desde el reposo a $a(t) = 3\\sin \\left(\\frac{t}{2} \\right)\\ln(t^2+2)+(\\frac{4}{t+2})$\n",
    "\n",
    "a. Determine la distancia recorrida por la partícula entre el instante $t = 0 $ y $t=2s$. Utilizando un polinomio de interpolación de grado 4, para expresar la función de la aceleración. Vamos a usar la interpolación de Lagrange.\n",
    "\n",
    "Para hacer la interpolación, necesitamos 5 puntos de datos. Ya que nos piden un polinomio de grado 4, necesitamos 5 puntos en el intervalo [0,2]. Los seleccionamos de manera que tenga la misma distancia entre ellos:\n",
    "* $t_0 = 0$\n",
    "* $t_1 = 0.5$\n",
    "* $t_2 = 1.0$\n",
    "* $t_3 = 1.5$\n",
    "* $t_4 = 2.0$\n",
    "\n",
    "Con estos valores podemos obtener el valor de la aceleración:"
   ]
  },
  {
   "cell_type": "code",
   "execution_count": 17,
   "metadata": {},
   "outputs": [
    {
     "data": {
      "text/plain": [
       "[2.0,\n",
       " 2.2018820385131384,\n",
       " 2.9134416979690476,\n",
       " 4.101685327005965,\n",
       " 5.523140815330615]"
      ]
     },
     "execution_count": 17,
     "metadata": {},
     "output_type": "execute_result"
    }
   ],
   "source": [
    "def aceleracion(t):\n",
    "    return 3*np.sin(t/2)*np.log(t**2+2)+(4/(t+2))\n",
    "\n",
    "t_values = [0.0, 0.5, 1.0, 1.5, 2.0]\n",
    "y = []\n",
    "for i in t_values:\n",
    "    y.append(aceleracion(i))\n",
    "y\n"
   ]
  },
  {
   "cell_type": "markdown",
   "metadata": {},
   "source": [
    "Los puntos son $(t,a): (0,2.0), (0.5,2.20),(1.0,2.91),(1.5,4.10),(2.0,5.52)$"
   ]
  },
  {
   "cell_type": "code",
   "execution_count": null,
   "metadata": {},
   "outputs": [],
   "source": []
  },
  {
   "cell_type": "code",
   "execution_count": null,
   "metadata": {},
   "outputs": [],
   "source": []
  },
  {
   "cell_type": "code",
   "execution_count": null,
   "metadata": {},
   "outputs": [],
   "source": []
  }
 ],
 "metadata": {
  "kernelspec": {
   "display_name": "Python 3",
   "language": "python",
   "name": "python3"
  },
  "language_info": {
   "codemirror_mode": {
    "name": "ipython",
    "version": 3
   },
   "file_extension": ".py",
   "mimetype": "text/x-python",
   "name": "python",
   "nbconvert_exporter": "python",
   "pygments_lexer": "ipython3",
   "version": "3.11.5"
  }
 },
 "nbformat": 4,
 "nbformat_minor": 2
}
